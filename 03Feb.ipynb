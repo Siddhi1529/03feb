{
  "nbformat": 4,
  "nbformat_minor": 0,
  "metadata": {
    "colab": {
      "provenance": []
    },
    "kernelspec": {
      "name": "python3",
      "display_name": "Python 3"
    },
    "language_info": {
      "name": "python"
    }
  },
  "cells": [
    {
      "cell_type": "markdown",
      "source": [
        "Q1. Which keyword is used to create a function? Create a function to return a list of odd numbers in the\n",
        "range of 1 to 25.\n"
      ],
      "metadata": {
        "id": "T7cSEC42TrOA"
      }
    },
    {
      "cell_type": "code",
      "source": [
        "# we use the def() to create a function"
      ],
      "metadata": {
        "id": "CaYrk8GwT4KB"
      },
      "execution_count": null,
      "outputs": []
    },
    {
      "cell_type": "code",
      "source": [
        "def odd_nums():\n",
        "  odd_numbers = []\n",
        "  for i in range(1,26):\n",
        "    if i%2!=0:\n",
        "      odd_numbers.append(i)\n",
        "  return odd_numbers"
      ],
      "metadata": {
        "id": "lYVc4lnuTsYX"
      },
      "execution_count": 7,
      "outputs": []
    },
    {
      "cell_type": "code",
      "source": [
        "print(odd_nums())"
      ],
      "metadata": {
        "colab": {
          "base_uri": "https://localhost:8080/"
        },
        "id": "regBsHkAUocQ",
        "outputId": "79c72f56-166e-45b5-9f01-bc6291ee77b5"
      },
      "execution_count": 8,
      "outputs": [
        {
          "output_type": "stream",
          "name": "stdout",
          "text": [
            "[1, 3, 5, 7, 9, 11, 13, 15, 17, 19, 21, 23, 25]\n"
          ]
        }
      ]
    },
    {
      "cell_type": "code",
      "source": [],
      "metadata": {
        "id": "gByapqO5ePc3"
      },
      "execution_count": null,
      "outputs": []
    },
    {
      "cell_type": "markdown",
      "source": [
        "Q2. Why *args and **kwargs is used in some functions? Create a function each for *args and **kwargs to\n",
        "demonstrate their use.\n"
      ],
      "metadata": {
        "id": "G4uSMAdGTse6"
      }
    },
    {
      "cell_type": "markdown",
      "source": [
        "args : allows a function to accept any number of positional arguments that are stored as a tuple.\n",
        "\n",
        "kwargs : allows a function to accept any number of keyword arguments that are are stored as a dictionary."
      ],
      "metadata": {
        "id": "77h5zw-zfHbL"
      }
    },
    {
      "cell_type": "code",
      "source": [
        "# args\n",
        "def add_numbers(*args):\n",
        "    return sum(args)\n",
        "\n",
        "print(add_numbers(2,4,6,8))\n"
      ],
      "metadata": {
        "colab": {
          "base_uri": "https://localhost:8080/"
        },
        "id": "EvHGYz6KTtVY",
        "outputId": "c5465a11-9e6f-47a8-c264-406f178f2275"
      },
      "execution_count": 10,
      "outputs": [
        {
          "output_type": "stream",
          "name": "stdout",
          "text": [
            "20\n"
          ]
        }
      ]
    },
    {
      "cell_type": "code",
      "source": [
        "#kwargs\n",
        "def print_student_info(**kwargs):\n",
        "    for key, value in kwargs.items():\n",
        "        print(f\"{key}: {value}\")\n",
        "\n",
        "print_student_info(name=\"Ben\", age=20, major=\"Maths\")\n"
      ],
      "metadata": {
        "colab": {
          "base_uri": "https://localhost:8080/"
        },
        "id": "XIO7DyoPgdwy",
        "outputId": "48327a8a-6926-415c-d30c-cfe5e1622586"
      },
      "execution_count": 11,
      "outputs": [
        {
          "output_type": "stream",
          "name": "stdout",
          "text": [
            "name: Ben\n",
            "age: 20\n",
            "major: Maths\n"
          ]
        }
      ]
    },
    {
      "cell_type": "code",
      "source": [],
      "metadata": {
        "id": "VIA0XGm0gd0X"
      },
      "execution_count": null,
      "outputs": []
    },
    {
      "cell_type": "markdown",
      "source": [
        "Q3. What is an iterator in python? Name the method used to initialise the iterator object and the method\n",
        "used for iteration. Use these methods to print the first five elements of the given list [2, 4, 6, 8, 10, 12, 14, 16,\n",
        "18, 20].\n"
      ],
      "metadata": {
        "id": "XAS1Hxl-TtbU"
      }
    },
    {
      "cell_type": "code",
      "source": [
        "# An iterator is an object that allows us to traverse through a collection such as a list.\n",
        "\n",
        " #   __iter__() is used to initialise the iterator object\n",
        "\n",
        "\n",
        " #    __next__() is used for iterations"
      ],
      "metadata": {
        "id": "29xHQF4bTuUg"
      },
      "execution_count": null,
      "outputs": []
    },
    {
      "cell_type": "code",
      "source": [
        "numbers = [2, 4, 6, 8, 10, 12, 14, 16, 18, 20]\n",
        "\n",
        "# Create an iterator object\n",
        "iterator = iter(numbers)\n",
        "\n",
        "# Use the next() function to get the first five elements\n",
        "for _ in range(5):\n",
        "    print(next(iterator))\n"
      ],
      "metadata": {
        "colab": {
          "base_uri": "https://localhost:8080/"
        },
        "id": "tqym_9ECikcs",
        "outputId": "5903a346-1efc-4723-d991-490a6b1abfef"
      },
      "execution_count": 12,
      "outputs": [
        {
          "output_type": "stream",
          "name": "stdout",
          "text": [
            "2\n",
            "4\n",
            "6\n",
            "8\n",
            "10\n"
          ]
        }
      ]
    },
    {
      "cell_type": "markdown",
      "source": [
        "Q4. What is a generator function in python? Why yield keyword is used? Give an example of a generator\n",
        "function.\n"
      ],
      "metadata": {
        "id": "SUpn1v-dTubo"
      }
    },
    {
      "cell_type": "markdown",
      "source": [
        "generator function - is a type of fucntion that returns an iterator or generator that can be iterated over one value at a time.\n",
        "\n",
        "\n",
        "yeild keyword - allows the function to produce a value, pause its execution, and retain its state, allowing it to continue where it left off when it’s called again"
      ],
      "metadata": {
        "id": "UJkLiYlXi0y2"
      }
    },
    {
      "cell_type": "code",
      "source": [
        "def even_nums(n):\n",
        "    num = 0\n",
        "    while num < n * 2:\n",
        "        yield num\n",
        "        num += 2\n",
        "\n",
        "# Use the generator function\n",
        "for even in even_nums(5):\n",
        "    print(even)\n"
      ],
      "metadata": {
        "colab": {
          "base_uri": "https://localhost:8080/"
        },
        "id": "R2lm_gIYTvYG",
        "outputId": "19593b69-5dce-4561-8124-74672f4bc641"
      },
      "execution_count": 14,
      "outputs": [
        {
          "output_type": "stream",
          "name": "stdout",
          "text": [
            "0\n",
            "2\n",
            "4\n",
            "6\n",
            "8\n"
          ]
        }
      ]
    },
    {
      "cell_type": "markdown",
      "source": [
        "Q5. Create a generator function for prime numbers less than 1000. Use the next() method to print the\n",
        "first 20 prime numbers."
      ],
      "metadata": {
        "id": "DwJ0uKenTvfn"
      }
    },
    {
      "cell_type": "code",
      "source": [
        "# function\n",
        "def prime_numbers():\n",
        "    for num in range(2, 1000):\n",
        "        is_prime = True\n",
        "        for i in range(2, int(num ** 0.5) + 1):\n",
        "            if num % i == 0:\n",
        "                is_prime = False\n",
        "                break\n",
        "        if is_prime:\n",
        "            yield num\n",
        "\n",
        "# Initialize the generator\n",
        "primes = prime_numbers()\n",
        "\n",
        "# Use next() to get the first 20 prime numbers\n",
        "for _ in range(20):\n",
        "    print(next(primes))\n"
      ],
      "metadata": {
        "colab": {
          "base_uri": "https://localhost:8080/"
        },
        "id": "NcWcBtm-Tv5s",
        "outputId": "0e2e8c87-28b5-48e9-a068-7802caeb43dd"
      },
      "execution_count": 15,
      "outputs": [
        {
          "output_type": "stream",
          "name": "stdout",
          "text": [
            "2\n",
            "3\n",
            "5\n",
            "7\n",
            "11\n",
            "13\n",
            "17\n",
            "19\n",
            "23\n",
            "29\n",
            "31\n",
            "37\n",
            "41\n",
            "43\n",
            "47\n",
            "53\n",
            "59\n",
            "61\n",
            "67\n",
            "71\n"
          ]
        }
      ]
    }
  ]
}